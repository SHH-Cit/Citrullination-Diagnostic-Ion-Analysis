{
 "cells": [
  {
   "cell_type": "code",
   "execution_count": null,
   "metadata": {},
   "outputs": [],
   "source": [
    "import pandas as pd\n",
    "import numpy as np\n",
    "import os\n",
    "import glob\n",
    "import statistics\n",
    "import itertools\n",
    "import re\n",
    "import pickle\n",
    "from pyteomics import mgf, mass\n",
    "from collections import Counter"
   ]
  },
  {
   "cell_type": "markdown",
   "metadata": {},
   "source": [
    "# 0. Initial parameters"
   ]
  },
  {
   "cell_type": "code",
   "execution_count": null,
   "metadata": {},
   "outputs": [],
   "source": [
    "# Fragmentation method used\n",
    "Frag_method = 'HCD' # HCD, CID, ETD, ECD\n",
    "\n",
    "# Ion types for theoretical spectrum generation\n",
    "ion_type = ['Precur', 'y', 'b', 'a', 'z', 'c', 'INT', 'IM']\n",
    "\n",
    "# Generate each ion type\n",
    "if Frag_method == 'HCD' or Frag_method == 'CID':\n",
    "    annot_yb     = True # y-, b-, a-ion\n",
    "    annot_zc     = False # z-, c-ion\n",
    "elif Frag_method == 'ETD' or Frag_method == 'ECD':\n",
    "    annot_yb     = False # y-, b-, a-ion\n",
    "    annot_zc     = True # z-, c-ion\n",
    "annot_precur = True # precursor ion\n",
    "annot_INT    = True # internal ion\n",
    "annot_IM     = True # immonium ion\n",
    "annot_dict = {\n",
    "    'Precur' : annot_precur,\n",
    "    'y'      : annot_yb,\n",
    "    'b'      : annot_yb,\n",
    "    'a'      : annot_yb,\n",
    "    'z'      : annot_zc,\n",
    "    'c'      : annot_zc,\n",
    "    'INT'    : annot_INT,\n",
    "    'IM'     : annot_IM\n",
    "}\n",
    "\n",
    "# MS2 mass tolerance (ppm)\n",
    "ms2_ppm = 15\n",
    "\n",
    "# Signal-to-noise (SNR) filter for MS2 spectrum\n",
    "apply_SNR = True # Apply SNR filter\n",
    "SNR       = 2 # SNR threshold\n",
    "low       = 0.05 # Define low x% intensity as baseline noise level\n",
    "\n",
    "# Maximum charge state of sequence ions\n",
    "max_charge = 2 # 2, 3, ... 'max'\n",
    "\n",
    "# Neutral loss from precursor & sequence ion\n",
    "NL_seq = {\n",
    "    'NH3' : { 'mass' : mass.calculate_mass(formula = 'NH3'),   'AA' : {'R', 'K', 'Q', 'N', 'r'} },\n",
    "    'H2O' : { 'mass' : mass.calculate_mass(formula = 'H2O'),   'AA' : {'S', 'T', 'E', 'D'} },\n",
    "    '43'  : { 'mass' : mass.calculate_mass(formula = 'HNCO'),  'AA' : {'r'} }, # Citrullination specific NL\n",
    "    '42'  : { 'mass' : mass.calculate_mass(formula = 'CN2H2'), 'AA' : {'R'} }, # Arg specific NL\n",
    "    '59'  : { 'mass' : mass.calculate_mass(formula = 'CN3H5'), 'AA' : {'R'} } # Arg specific NL\n",
    "}\n",
    "\n",
    "# Neutral loss from internal ion\n",
    "NL_INT = {\n",
    "    **NL_seq, \n",
    "    **{ 'CO' : { 'mass' : mass.calculate_mass(formula = 'CO'), 'AA' : {''} } } # CO loss from C-terminus of internal ion\n",
    "}\n",
    "\n",
    "# Maximum number of neutral loss from a single ion\n",
    "max_NL = 3\n",
    "\n",
    "# Common masses\n",
    "proton = mass.calculate_mass(formula = 'H')\n",
    "OH     = mass.calculate_mass(formula = 'OH')\n",
    "CO     = mass.calculate_mass(formula = 'CO')\n",
    "NH3    = mass.calculate_mass(formula = 'NH3')\n",
    "\n",
    "# Symbols for common modifications\n",
    "Mod_symbol = {\n",
    "    'C+57.021'  : 'c', # C(Carbamidomethyl) \n",
    "    'M+15.995'  : 'm', # M(Oxidation)\n",
    "    'R+0.984'   : 'r', # R(Citrullination)\n",
    "    'N+0.984'   : 'n', # N(Deamidation)\n",
    "    'Q+0.984'   : 'q', # Q(Deamidation)\n",
    "    'E-17.027'  : '@', # Pyro-Glu from Glu\n",
    "    'Q-18.011'  : '#', # Pyro-Glu from Gln    \n",
    "    'K+144.102' : 'i', # K(iTRAQ 4-plex)\n",
    "    'K+304.205' : 'u', # K(iTRAQ 8-plex)    \n",
    "    'K+229.163' : 't', # K(TMT)\n",
    "    '+144.102'  : '%', # N-term(iTRAQ 4-plex)\n",
    "    '+304.205'  : '&', # N-term(iTRAQ 8-plex)\n",
    "    '+229.163'  : '^', # N-term(TMT)\n",
    "    '+42.011'   : 'a'  # N-term(Acetyl)\n",
    "}\n",
    "Nterm_mod_symbol = [symbol for mod, symbol in Mod_symbol.items() if len(mod.split('+')[0]) == 0] # N-term modification symbols\n",
    "\n",
    "# Amino acid monoisotopic mass\n",
    "aa = {\n",
    "    'c' : 160.030649, # C(Carbamidomethyl)\n",
    "    'm' : 147.0354,   # M(Oxidation)\n",
    "    'r' : 157.085127, # R(Citrullination)\n",
    "    'n' : 115.026943, # N(Deamidation)\n",
    "    'q' : 129.042594, # Q(Deamidation)\n",
    "    '@' : 112.015593, # Pyro-Glu from Glu\n",
    "    '#' : 110.047578, # Pyro-Glu from Gln\n",
    "    'i' : 272.196963, # K(iTRAQ 4-plex)\n",
    "    'u' : 432.299963, # K(iTRAQ 8-plex)\n",
    "    't' : 357.257963, # K(TMT)\n",
    "    '%' : 144.102,    # N-term(iTRAQ 4-plex)\n",
    "    '&' : 304.205,    # N-term(iTRAQ 8-plex)\n",
    "    '^' : 229.163,    # N-term(TMT)\n",
    "    'a' : 42.011,     # N-term(Acetyl)\n",
    "    'A' : 71.037114,\n",
    "    'R' : 156.101111,\n",
    "    'N' : 114.042927,\n",
    "    'D' : 115.026943,\n",
    "    'C' : 103.009185,\n",
    "    'E' : 129.042593,\n",
    "    'Q' : 128.058578,\n",
    "    'G' : 57.021464,\n",
    "    'H' : 137.058912,\n",
    "    'I' : 113.084064,\n",
    "    'L' : 113.084064,\n",
    "    'K' : 128.094963,\n",
    "    'M' : 131.040485,\n",
    "    'F' : 147.068414,\n",
    "    'P' : 97.052764,\n",
    "    'S' : 87.032028,\n",
    "    'T' : 101.047679,\n",
    "    'W' : 186.079313,\n",
    "    'Y' : 163.06332,\n",
    "    'V' : 99.068414\n",
    "}"
   ]
  },
  {
   "cell_type": "markdown",
   "metadata": {},
   "source": [
    "# 1. Input files"
   ]
  },
  {
   "cell_type": "code",
   "execution_count": null,
   "metadata": {},
   "outputs": [],
   "source": [
    "# Set current working directory\n",
    "PATH = \"F:/Project/DGIST_김민식_교수/Citrullination/Biological_data/Human_brain_Citrullinome/\"\n",
    "os.chdir(PATH)"
   ]
  },
  {
   "cell_type": "markdown",
   "metadata": {},
   "source": [
    "## 1.1 Spectrum file (mgf)"
   ]
  },
  {
   "cell_type": "code",
   "execution_count": null,
   "metadata": {},
   "outputs": [],
   "source": [
    "# Read spectrum files\n",
    "spec_files = glob.glob('*.mgf')\n",
    "dfs = []\n",
    "for spec_file in spec_files:\n",
    "    df_temp = pd.DataFrame(mgf.read(spec_file, convert_arrays = 1, read_charges = False))\n",
    "    dfs.append(df_temp)\n",
    "\n",
    "df_exp = pd.concat(dfs).reset_index(drop = True)\n",
    "df_exp['params'] = df_exp['params'].apply(lambda x: x.get('title')) # Get scan title\n",
    "df_exp = df_exp.rename(columns = {'params': 'Title'}) # Change column name"
   ]
  },
  {
   "cell_type": "code",
   "execution_count": null,
   "metadata": {},
   "outputs": [],
   "source": [
    "# Remove redundant spectra\n",
    "df_exp.drop_duplicates('Title', keep = False, ignore_index = True, inplace = True)"
   ]
  },
  {
   "cell_type": "code",
   "execution_count": null,
   "metadata": {},
   "outputs": [],
   "source": [
    "# Retain only nonzero intensity \n",
    "nonzero_intensity = df_exp['intensity array'].apply(lambda x: (x > 0).astype(int))\n",
    "df_exp['intensity array'] = (df_exp['intensity array']*nonzero_intensity).apply(lambda x: [i for i in x if i != 0])\n",
    "df_exp['m/z array']       = (df_exp['m/z array']      *nonzero_intensity).apply(lambda x: [i for i in x if i != 0])"
   ]
  },
  {
   "cell_type": "code",
   "execution_count": null,
   "metadata": {},
   "outputs": [],
   "source": [
    "# Remove spectrum with <20 peaks\n",
    "df_exp = df_exp[df_exp['m/z array'].str.len() >= 20]"
   ]
  },
  {
   "cell_type": "code",
   "execution_count": null,
   "metadata": {},
   "outputs": [],
   "source": [
    "# Apply SNR filter\n",
    "if apply_SNR == True:\n",
    "    signal_intensity = df_exp['intensity array'].apply(lambda x: (x > statistics.mean(sorted(x)[:round(len(x)*low)])*SNR).astype(int))\n",
    "    df_exp['intensity array'] = (df_exp['intensity array']*signal_intensity).apply(lambda x: [i for i in x if i != 0])\n",
    "    df_exp['m/z array']       = (df_exp['m/z array']      *signal_intensity).apply(lambda x: [i for i in x if i != 0])"
   ]
  },
  {
   "cell_type": "code",
   "execution_count": null,
   "metadata": {},
   "outputs": [],
   "source": [
    "# Create a column of mz-intensity pairs\n",
    "df_exp['mz_intensity'] = df_exp[['m/z array', 'intensity array']].apply(lambda x: [list(t) for t in zip(x['m/z array'], x['intensity array'])], axis = 1)\n"
   ]
  },
  {
   "cell_type": "markdown",
   "metadata": {},
   "source": [
    "## 1.2 Search result file"
   ]
  },
  {
   "cell_type": "code",
   "execution_count": null,
   "metadata": {},
   "outputs": [],
   "source": [
    "# Read search result files\n",
    "search_files = glob.glob('Human_brain_Citrullinome_paper_multi_Cit_PSMs.csv')\n",
    "dfs = []\n",
    "for search_file in search_files:\n",
    "    df_temp = pd.read_csv(search_file)\n",
    "    dfs.append(df_temp)\n",
    "\n",
    "df = pd.concat(dfs).reset_index(drop = True)"
   ]
  },
  {
   "cell_type": "code",
   "execution_count": null,
   "metadata": {},
   "outputs": [],
   "source": [
    "# Remove redundant PSMs\n",
    "df.drop_duplicates('Title', keep = False, ignore_index = True, inplace = True)"
   ]
  },
  {
   "cell_type": "code",
   "execution_count": null,
   "metadata": {},
   "outputs": [],
   "source": [
    "# Define a function to convert modifications to specific symbols\n",
    "def Mod_to_symbol(peptide):\n",
    "    for key, value in Mod_symbol.items():\n",
    "        peptide = peptide.replace(key, value)\n",
    "    return peptide"
   ]
  },
  {
   "cell_type": "code",
   "execution_count": null,
   "metadata": {},
   "outputs": [],
   "source": [
    "# Define a function to remove N-term modification symbols\n",
    "def Nterm_mod_remove(peptide):\n",
    "    for mod in Nterm_mod_symbol:\n",
    "        peptide = peptide.replace(mod, '')\n",
    "    return peptide"
   ]
  },
  {
   "cell_type": "code",
   "execution_count": null,
   "metadata": {},
   "outputs": [],
   "source": [
    "# Dataframe generation\n",
    "df_pep = pd.DataFrame(data = df['Title'].tolist(), columns = ['Title'] )\n",
    "df_pep.insert(loc = 1, column='Peptide', value = list(df['Peptide']))\n",
    "df_pep['mod_Peptide'] = df_pep['Peptide'].apply(lambda x: Mod_to_symbol(x)) # Convert modification to specific symbols\n",
    "df_pep['seq_Peptide'] = df_pep['mod_Peptide'].apply(lambda x: Nterm_mod_remove(x)) # Remove N-term modification symbol\n",
    "df_pep['Pep_length'] = df_pep['seq_Peptide'].str.len()\n",
    "df_pep.insert(loc = 4, column='Charge', value = list(df['Charge']))"
   ]
  },
  {
   "cell_type": "code",
   "execution_count": null,
   "metadata": {},
   "outputs": [],
   "source": [
    "# Remove sequence without Cit\n",
    "df_pep = df_pep[df_pep.mod_Peptide.str.contains(\"r\")]\n",
    "df_pep = df_pep.reset_index(drop = True)"
   ]
  },
  {
   "cell_type": "code",
   "execution_count": null,
   "metadata": {},
   "outputs": [],
   "source": [
    "# Get theoretical precursor m/z\n",
    "df_pep['mz_Precursor'] = ([sum(aa.get(x, 0) for x in ','.join(j)) + OH + proton for j in df_pep['mod_Peptide'].astype(str).fillna('')] + df_pep['Charge']*proton)/df_pep['Charge']\n"
   ]
  },
  {
   "cell_type": "code",
   "execution_count": null,
   "metadata": {
    "scrolled": true
   },
   "outputs": [],
   "source": [
    "# Count the number of Cit\n",
    "df_pep['Cit_Count'] = df_pep['seq_Peptide'].str.count(\"r\")"
   ]
  },
  {
   "cell_type": "code",
   "execution_count": null,
   "metadata": {},
   "outputs": [],
   "source": [
    "# Keep only PSMs with corresponding spectra\n",
    "df_pep = df_pep.merge(df_exp['Title'], on = 'Title').sort_values('Title', ascending = True).reset_index(drop = True)"
   ]
  },
  {
   "cell_type": "code",
   "execution_count": null,
   "metadata": {},
   "outputs": [],
   "source": [
    "# Keep only spectra with corresponding PSMs\n",
    "df_exp = df_exp.merge(df_pep['Title'], on = 'Title').sort_values('Title', ascending = True).reset_index(drop = True)"
   ]
  },
  {
   "cell_type": "markdown",
   "metadata": {},
   "source": [
    "# 2. Theoretical spectrum generation"
   ]
  },
  {
   "cell_type": "markdown",
   "metadata": {},
   "source": [
    "## 2.1 Ion sequence"
   ]
  },
  {
   "cell_type": "code",
   "execution_count": null,
   "metadata": {},
   "outputs": [],
   "source": [
    "# Define functions to generate ion sequence\n",
    "def getCombinations_seq (lst): # For regular sequence ion\n",
    "    for i, j in itertools.combinations(range(len(lst) + 1), 2):\n",
    "        yield lst[0:j]\n",
    "\n",
    "def getCombinations_INT (lst): # For internal ion\n",
    "    for i, j in itertools.combinations(range(len(lst) + 1), 2):\n",
    "        yield lst[i:j]"
   ]
  },
  {
   "cell_type": "code",
   "execution_count": null,
   "metadata": {},
   "outputs": [],
   "source": [
    "## Get ion sequence\n",
    "# Regular sequence ion\n",
    "df_pep_mz = df_pep.copy()\n",
    "\n",
    "if annot_yb == True:\n",
    "    # y ion\n",
    "    Cterm_combo = df_pep['seq_Peptide'].str[1:].apply(lambda x: [i for i in sorted(list(set(sorted(getCombinations_seq (x[::-1]), key = len))))])\n",
    "    df_pep_mz   = pd.concat([df_pep_mz, pd.DataFrame(Cterm_combo.values.tolist(), \n",
    "                                                columns = ['seq_y_' + str(i) for i in range(1, len(max(Cterm_combo, key = len)) + 1)])], axis=1)\n",
    "    # b ion\n",
    "    Nterm_mod = df_pep['mod_Peptide'].apply(lambda x: ''.join([AA for AA in x if AA in Nterm_mod_symbol]))\n",
    "    Nterm_combo = df_pep['seq_Peptide'].str[0:-1].apply(lambda x: [i for i in sorted(list(set(sorted(getCombinations_seq (x), key = len))))])\n",
    "    Nterm_combo_mod = pd.concat([Nterm_mod, Nterm_combo], axis = 1).apply(lambda x: [x['mod_Peptide'] + ion for ion in x['seq_Peptide']], axis = 1)\n",
    "    df_pep_mz   = pd.concat([df_pep_mz, pd.DataFrame(Nterm_combo_mod.values.tolist(), \n",
    "                                                   columns = ['seq_b_' + str(i) for i in range(1, len(max(Nterm_combo_mod, key = len)) + 1)])], axis=1)\n",
    "    # a ion\n",
    "    df_pep_mz   = pd.concat([df_pep_mz, pd.DataFrame(Nterm_combo_mod.values.tolist(), \n",
    "                                                   columns = ['seq_a_' + str(i) for i in range(1, len(max(Nterm_combo_mod, key = len)) + 1)])], axis=1)\n",
    "\n",
    "if annot_zc == True:\n",
    "    # Get non-sensical z-, c-ions\n",
    "    P_index = df_pep['seq_Peptide'].apply(lambda x: [index for index, AA in enumerate(x) if AA == 'P'] if 'P' in x else np.nan)\n",
    "    z_nonsense = pd.DataFrame([df_pep['Pep_length'], P_index]).T.apply(lambda x: [x['Pep_length'] - index for index in x['seq_Peptide']] if isinstance(x['seq_Peptide'], list) else np.nan, axis = 1)\n",
    "    c_nonsense = P_index.apply(lambda x: [index for index in x] if isinstance(x, list) else np.nan)\n",
    "    \n",
    "    # z ion\n",
    "    Cterm_combo = df_pep['seq_Peptide'].str[1:].apply( lambda x: [i for i in sorted(list(set(sorted(getCombinations_seq(x[::-1]), key = len))))])\n",
    "    Cterm_combo = pd.DataFrame([Cterm_combo, z_nonsense]).T.apply(lambda x: [ion if len(ion) not in x[1] else np.nan for ion in x[0]] if isinstance(x[1], list) else x[0], axis = 1) # Remove non-sensical z-ions\n",
    "    df_pep_mz   = pd.concat([df_pep_mz, pd.DataFrame(Cterm_combo.values.tolist(), \n",
    "                                                columns = ['seq_z_' + str(i) for i in range(1, len(max(Cterm_combo, key = len)) + 1)])], axis = 1)\n",
    "    # c ion\n",
    "    Nterm_mod = df_pep['mod_Peptide'].apply(lambda x: ''.join([AA for AA in x if AA in Nterm_mod_symbol]))\n",
    "    Nterm_combo = df_pep['seq_Peptide'].str[0:-1].apply(lambda x: [i for i in sorted(list(set(sorted(getCombinations_seq(x), key = len))))])\n",
    "    Nterm_combo_mod = pd.concat([Nterm_mod, Nterm_combo], axis = 1).apply(lambda x: [x['mod_Peptide'] + ion for ion in x['seq_Peptide']], axis = 1)\n",
    "    Nterm_combo = pd.DataFrame([Nterm_combo, c_nonsense]).T.apply(lambda x: [ion if len(ion) not in x[1] else np.nan for ion in x[0]] if isinstance(x[1], list) else x[0], axis = 1) # Remove non-sensical c-ions\n",
    "    Nterm_combo_mod = pd.DataFrame([Nterm_combo_mod, c_nonsense]).T.apply(lambda x: [ion if len(Nterm_mod_remove(ion)) not in x[1] else np.nan for ion in x[0]] if isinstance(x[1], list) else x[0], axis = 1) # Remove non-sensical c-ions\n",
    "    df_pep_mz   = pd.concat([df_pep_mz, pd.DataFrame(Nterm_combo_mod.values.tolist(), \n",
    "                                                   columns = ['seq_c_' + str(i) for i in range(1, len(max(Nterm_combo_mod, key = len)) + 1)])], axis=1)\n",
    "# Internal ion\n",
    "if annot_INT == True:\n",
    "    INT_combo   = df_pep['seq_Peptide'].str[1:-1].apply(lambda x: [i for i in sorted(getCombinations_INT(x), key = len) if len(i) > 1])\n",
    "    df_pep_mz   = pd.concat([df_pep_mz, pd.DataFrame(INT_combo.values.tolist(), \n",
    "                                                   columns = ['seq_INT_' + str(i) for i in range(1, len(max(INT_combo, key = len)) + 1)])], axis=1)\n"
   ]
  },
  {
   "cell_type": "code",
   "execution_count": null,
   "metadata": {
    "scrolled": true
   },
   "outputs": [],
   "source": [
    "## Get ion annotation\n",
    "# Regular sequence ion\n",
    "df_pep_label = df_pep.copy()\n",
    "\n",
    "if annot_yb == True:\n",
    "    # y ion\n",
    "    Cterm_combo_label = Cterm_combo.apply(lambda x: ['y' + str(len(i)) for i in x])\n",
    "    df_pep_label = pd.concat([df_pep_label, pd.DataFrame(Cterm_combo_label.values.tolist(), \n",
    "                                                columns = ['seq_y_' + str(i) for i in range(1, len(max(Cterm_combo, key = len)) + 1)])], axis=1)\n",
    "    # b ion\n",
    "    Nterm_combo_label = Nterm_combo.apply(lambda x: ['b' + str(len(i)) for i in x])\n",
    "    df_pep_label = pd.concat([df_pep_label, pd.DataFrame(Nterm_combo_label.values.tolist(), \n",
    "                                                columns = ['seq_b_' + str(i) for i in range(1, len(max(Nterm_combo, key = len)) + 1)])], axis=1)\n",
    "    # a ion\n",
    "    Nterm_combo_label = Nterm_combo.apply(lambda x: ['a' + str(len(i)) for i in x])\n",
    "    df_pep_label = pd.concat([df_pep_label, pd.DataFrame(Nterm_combo_label.values.tolist(), \n",
    "                                                columns = ['seq_a_' + str(i) for i in range(1, len(max(Nterm_combo, key = len)) + 1)])], axis=1)\n",
    "\n",
    "if annot_zc == True:\n",
    "    # z ion\n",
    "    Cterm_combo_label = Cterm_combo.apply(lambda x: ['z' + str(len(i)) if pd.notnull(i) else np.nan for i in x])\n",
    "    df_pep_label = pd.concat([df_pep_label, pd.DataFrame(Cterm_combo_label.values.tolist(), \n",
    "                                                columns = ['seq_z_' + str(i) for i in range(1, len(max(Cterm_combo, key = len)) + 1)])], axis=1)\n",
    "    # c ion\n",
    "    Nterm_combo_label = Nterm_combo.apply(lambda x: ['c' + str(len(i)) if pd.notnull(i) else np.nan for i in x])\n",
    "    df_pep_label = pd.concat([df_pep_label, pd.DataFrame(Nterm_combo_label.values.tolist(), \n",
    "                                                columns = ['seq_c_' + str(i) for i in range(1, len(max(Nterm_combo, key = len)) + 1)])], axis=1)\n",
    "\n",
    "# Internal ion\n",
    "if annot_INT == True:\n",
    "    df_pep_label = pd.concat([df_pep_label, pd.DataFrame(INT_combo.values.tolist(), \n",
    "                                                           columns = ['seq_INT_' + str(i) for i in range(1, len(max(INT_combo, key=len)) + 1)])], axis=1)\n",
    "\n",
    "# Precursor ion\n",
    "if annot_precur == True:\n",
    "    df_pep_label.loc[(df_pep_label.mz_Precursor != np.nan), 'mz_Precursor'] = 'Precursor'"
   ]
  },
  {
   "cell_type": "markdown",
   "metadata": {},
   "source": [
    "## 2.2 Singly charged ion"
   ]
  },
  {
   "cell_type": "code",
   "execution_count": null,
   "metadata": {},
   "outputs": [],
   "source": [
    "# Define functions to calculate m/z for each ion type\n",
    "def y_mz(x):\n",
    "    return sum(aa.get(a, 0) for a in ','.join(x)) + 2*(proton) + OH \n",
    "\n",
    "def b_mz(x):\n",
    "    return sum(aa.get(a, 0) for a in ','.join(x)) + proton\n",
    "\n",
    "def a_mz(x):\n",
    "    return sum(aa.get(a, 0) for a in ','.join(x)) + proton - CO\n",
    "\n",
    "def z_mz(x):\n",
    "    return sum(aa.get(a, 0) for a in ','.join(x)) + 2*(proton) + OH - NH3 + proton\n",
    "\n",
    "def c_mz(x):\n",
    "    return sum(aa.get(a, 0) for a in ','.join(x)) + proton + NH3\n",
    "\n",
    "def INT_mz(x):\n",
    "    return sum(aa.get(a, 0) for a in ','.join(x)) + proton\n",
    "\n",
    "mz_dict = {\n",
    "    'y'   : y_mz,\n",
    "    'b'   : b_mz,\n",
    "    'a'   : a_mz,\n",
    "    'z'   : z_mz,\n",
    "    'c'   : c_mz,\n",
    "    'INT' : INT_mz\n",
    "}"
   ]
  },
  {
   "cell_type": "code",
   "execution_count": null,
   "metadata": {},
   "outputs": [],
   "source": [
    "# Calculate m/z for each ion type\n",
    "for ion in ion_type:\n",
    "    if ion in ['y', 'b', 'a', 'z', 'c', 'INT'] and annot_dict.get(ion) == True:\n",
    "        df_temp = df_pep_mz.filter(like = 'seq_%s' % (ion)).apply(lambda x: [mz_dict.get(ion)(i) if pd.notnull(i) else np.nan for i in x])\n",
    "        df_temp.rename(columns = lambda x: x.replace('seq', 'mz'), inplace = True)\n",
    "        df_pep_mz = pd.concat([df_pep_mz, df_temp], axis = 1)\n",
    "\n",
    "# Update annotation df\n",
    "df_label_temp = df_pep_label.filter(like='seq').drop(columns = 'seq_Peptide')\n",
    "df_label_temp.rename(columns = lambda x: x.replace('seq', 'mz'), inplace = True)\n",
    "df_pep_label = pd.concat([df_pep_label, df_label_temp], axis = 1)\n",
    "df_pep_label.fillna(value = np.nan, inplace = True)\n",
    "\n",
    "# Replace None to NaN\n",
    "df_pep_mz.fillna(value = np.nan, inplace = True)\n",
    "df_pep_label.fillna(value = np.nan, inplace = True)"
   ]
  },
  {
   "cell_type": "markdown",
   "metadata": {},
   "source": [
    "## 2.3 Neutral loss variant"
   ]
  },
  {
   "cell_type": "code",
   "execution_count": null,
   "metadata": {},
   "outputs": [],
   "source": [
    "# Define a function for generating NL combinations\n",
    "def NL_combo(x, max_NL):    \n",
    "    \n",
    "    l = []    \n",
    "    for i in range(1, max_NL + 1):\n",
    "        temp = list(itertools.product(list(x.keys()),repeat = i))\n",
    "        l.append(temp)\n",
    "        \n",
    "    l = list(itertools.chain.from_iterable(l))\n",
    "    l = [tuple(sorted(tuple_)) for tuple_ in l]\n",
    "    myset = set(l)\n",
    "    l = sorted(myset)\n",
    "    for i in range(len(l)):\n",
    "        l[i] = '-'.join(l[i])    \n",
    "        \n",
    "    L = [sub.split('-') for sub in l]    \n",
    "    for i in range(len(L)):\n",
    "        L[i] = sum(x.get(L[i][j])['mass'] for j in range(len(L[i]))) \n",
    "        \n",
    "    return l, L"
   ]
  },
  {
   "cell_type": "code",
   "execution_count": null,
   "metadata": {},
   "outputs": [],
   "source": [
    "# Define a function for checking whether NL condition is met for each ion\n",
    "def NL_condition(NL_AA_list, sequence):    \n",
    "    \n",
    "    c = Counter(sequence)\n",
    "    \n",
    "    # If one-to-one NL type exists, take care of it first\n",
    "    for NL_group in NL_AA_list:\n",
    "        if len(NL_group) == 1:\n",
    "            if NL_group[0] not in sequence:\n",
    "                return\n",
    "            else:\n",
    "                if len(NL_AA_list) > 1:\n",
    "                    if c[NL_group[0]] >= 1:\n",
    "                        c[NL_group[0]] -= 1\n",
    "                    elif c[NL_group[0]] <= 0:\n",
    "                        return\n",
    "                elif len(NL_AA_list) == 1:\n",
    "                    return True\n",
    "    \n",
    "    # Check if remaining NL types is feasible in each ion\n",
    "    NL_AA_list = [NL_group for NL_group in NL_AA_list if len(NL_group) > 1]\n",
    "    common_AA  = list(set(itertools.chain.from_iterable(NL_AA_list)))\n",
    "    \n",
    "    # If there are only one-to-one NL types, return True\n",
    "    if len(NL_AA_list) == 0:\n",
    "        return True\n",
    "    \n",
    "    # In case of one-to-multiple NL types\n",
    "    for AA in list(c):\n",
    "        if AA not in common_AA:\n",
    "            del c[AA]\n",
    "        \n",
    "    if sum(c.values()) >= len(NL_AA_list):\n",
    "        return True   "
   ]
  },
  {
   "cell_type": "code",
   "execution_count": null,
   "metadata": {
    "scrolled": true
   },
   "outputs": [],
   "source": [
    "%%time\n",
    "# Create NL variant m/z dataframes and append to the original dataframe\n",
    "df_pep_mz_temp    = df_pep_mz.copy()\n",
    "df_pep_label_temp = df_pep_label.copy()\n",
    "\n",
    "for ion in ['Precur', 'y', 'b', 'a', 'z', 'c', 'INT']:\n",
    "    if annot_dict.get(ion) == True:\n",
    "\n",
    "        NL_list = []\n",
    "        if ion == 'Precur':\n",
    "            NL_list  = NL_combo(NL_seq, max_NL)\n",
    "            df_seq   = df_pep_mz_temp[['seq_Peptide']]\n",
    "            df_mz    = df_pep_mz_temp[['mz_Precursor']]\n",
    "            df_label = df_pep_label_temp[['mz_Precursor']]\n",
    "        elif ion in ['y', 'b', 'a', 'z', 'c']:\n",
    "            NL_list  = NL_combo(NL_seq, max_NL)\n",
    "            df_seq   = df_pep_mz_temp[[col for col in df_pep_mz_temp.columns if 'seq_%s' %(ion) in col]]\n",
    "            df_seq_temp = pd.Series(df_seq.values.tolist()).apply(lambda x: [i for i in x if isinstance(i, str)])\n",
    "            df_mz    = df_pep_mz_temp[[col for col in df_pep_mz_temp.columns if 'mz_%s'  %(ion) in col]]\n",
    "            df_label = df_pep_label_temp[[col for col in df_pep_label_temp.columns if 'mz_%s' %(ion) in col]]        \n",
    "\n",
    "        elif ion == 'INT':\n",
    "            NL_list  = NL_combo(NL_INT, max_NL)\n",
    "            df_seq   = df_pep_mz_temp[[col for col in df_pep_mz_temp.columns if 'seq_%s' %(ion) in col]]\n",
    "            df_seq_temp = pd.Series(df_seq.values.tolist()).apply(lambda x: [i for i in x if isinstance(i, str)])\n",
    "            df_mz    = df_pep_mz_temp[[col for col in df_pep_mz_temp.columns if 'mz_%s'  %(ion) in col]]\n",
    "            df_label = df_pep_label_temp[[col for col in df_pep_mz_temp.columns if 'mz_%s' %(ion) in col]]\n",
    "\n",
    "        # For each NL type get NL variant m/z\n",
    "        if NL_list != []: # if the ion types are to be included\n",
    "            for NL in NL_list[0]:\n",
    "\n",
    "                NL_AA_list = []\n",
    "                for sub_NL in NL.split('-'):\n",
    "\n",
    "                    if ion in ['Precur', 'y', 'b', 'a', 'z', 'c']:\n",
    "                        temp1 = list(NL_seq.get(sub_NL)['AA'])\n",
    "                    elif ion == 'INT':\n",
    "                        temp1 = list(NL_INT.get(sub_NL)['AA'])\n",
    "                    NL_AA_list.append(temp1)\n",
    "                \n",
    "                # m/z dataframe\n",
    "                if ion == 'Precur':\n",
    "                    df_bool     = df_seq.applymap(lambda x: 1 if NL_condition(NL_AA_list, str(x)) == True else np.nan)\n",
    "                    df_mz_temp  = pd.DataFrame(df_bool.values*df_mz.values, columns = df_mz.columns, index = df_mz.index)\n",
    "                    df_mz_temp  = df_mz_temp.replace({0:np.nan})\n",
    "                    df_mz_temp['mz_Precursor'] = df_mz_temp.mz_Precursor*df_pep_mz_temp.Charge # Convert m/z to mass\n",
    "                    df_mz_temp  = df_mz_temp.apply(lambda x: 0 if str(x) == np.nan else x - NL_list[1][NL_list[0].index(NL)])\n",
    "                    df_mz_temp['mz_Precursor'] = df_mz_temp.mz_Precursor/df_pep_mz_temp.Charge # Convert mass to m/z\n",
    "                    df_mz_temp.rename(columns = lambda x: x + '-%s' % (NL), inplace = True)\n",
    "                    df_pep_mz_temp = pd.concat([df_pep_mz_temp, df_mz_temp], axis = 1)                \n",
    "                else:\n",
    "                    df_bool     = pd.DataFrame(df_seq_temp.apply(lambda x: [1 if NL_condition(NL_AA_list, i) == True else np.nan for i in x]).tolist())\n",
    "                    df_mz_temp  = pd.DataFrame(df_bool.values*df_mz.values, columns = df_mz.columns, index = df_mz.index)\n",
    "                    NL_mz = NL_list[1][NL_list[0].index(NL)]\n",
    "                    df_mz_temp  = df_mz_temp - NL_mz\n",
    "                    df_mz_temp.rename(columns = lambda x: x + '-%s' % (NL), inplace = True)\n",
    "                    df_pep_mz_temp = pd.concat([df_pep_mz_temp, df_mz_temp], axis = 1)\n",
    "\n",
    "                # annotation dataframe\n",
    "                df_label_temp = (df_bool==1).astype(int) * df_label.values\n",
    "                df_label_temp = df_label_temp.replace(r'^\\s*$', np.nan, regex=True)\n",
    "                df_label_temp.columns = df_label.columns\n",
    "                df_label_temp = pd.DataFrame(np.where(df_label_temp.notnull(), df_label_temp.astype(str) + '-' + NL, np.nan), columns = df_label_temp.columns)\n",
    "                df_label_temp.rename(columns = lambda x: x + '-%s' % (NL), inplace = True)\n",
    "                df_pep_label_temp = pd.concat([df_pep_label_temp, df_label_temp], axis = 1)"
   ]
  },
  {
   "cell_type": "code",
   "execution_count": null,
   "metadata": {},
   "outputs": [],
   "source": [
    "# Copy temporary dataframe back into original dataframe\n",
    "df_pep_mz    = df_pep_mz_temp.copy()\n",
    "df_pep_label = df_pep_label_temp.copy()"
   ]
  },
  {
   "cell_type": "markdown",
   "metadata": {},
   "source": [
    "## 2.4 Multiply charged ion"
   ]
  },
  {
   "cell_type": "code",
   "execution_count": null,
   "metadata": {},
   "outputs": [],
   "source": [
    "# Define a function for checking whether multiple charge state condition is met for each ion\n",
    "def multi_charge_condition(charge, sequence):\n",
    "    \n",
    "    if pd.notnull(sequence):\n",
    "        # Count the number of basic residues\n",
    "        AA_count = sequence.count('R') + sequence.count('K') + sequence.count('H')\n",
    "\n",
    "        # Condition for multiple charge state\n",
    "        if AA_count + 1 >= charge:\n",
    "            return 1"
   ]
  },
  {
   "cell_type": "code",
   "execution_count": null,
   "metadata": {
    "scrolled": true
   },
   "outputs": [],
   "source": [
    "%%time\n",
    "# Create multiple charge state m/z dataframe and append to the original dataframe\n",
    "if max_charge > 1:\n",
    "    # Create temporary m/z and annotation dataframe\n",
    "    df_seq   = df_pep_mz[[col for col in df_pep_mz.columns       if any(['seq_y' in col, 'seq_b' in col, 'seq_a' in col, 'seq_z' in col, 'seq_c' in col]) == True]]\n",
    "    df_mz    = df_pep_mz[[col for col in df_pep_mz.columns       if any(['mz_y' in col, 'mz_b' in col, 'mz_a' in col, 'mz_z' in col, 'mz_c' in col]) == True]]\n",
    "    df_label = df_pep_label[[col for col in df_pep_label.columns if any(['mz_y' in col, 'mz_b' in col, 'mz_a' in col, 'mz_z' in col, 'mz_c' in col]) == True]]\n",
    "\n",
    "    # Create temporary m/z and annotation dataframe\n",
    "    df_pep_mz_temp    = df_pep_mz.copy()\n",
    "    df_pep_label_temp = df_pep_label.copy()\n",
    "\n",
    "    # For each charge state get m/z\n",
    "    if max_charge == 'max':\n",
    "        charge_boundary = df_pep_mz['Charge'].max()\n",
    "    else:\n",
    "        charge_boundary = max_charge\n",
    "\n",
    "    for charge in range(2, charge_boundary + 1): # Generate multiply charged sequence ions (from +2 to predefined max. charge)\n",
    "\n",
    "        # m/z dataframe\n",
    "        df_charge = df_pep_mz['Charge'].copy()\n",
    "        df_charge.loc[df_charge < charge] = 0\n",
    "        df_bool1 = df_seq.apply(lambda x: [multi_charge_condition(charge, ion) if isinstance(ion, str) else 0 for ion in x])\n",
    "        df_bool1 = pd.concat([df_charge, df_bool1], axis = 1)\n",
    "        df_bool1.loc[df_bool1['Charge'] == 0, df_bool1.columns] = 0\n",
    "        df_bool1 = df_bool1.drop(columns = 'Charge')\n",
    "\n",
    "        df_mz_temp  = df_mz.copy()\n",
    "        for column in df_mz_temp.columns:\n",
    "            df_mz_temp[column] = df_bool1['%s' % (column.split('-')[0].replace('mz', 'seq'))]\n",
    "        df_mz_temp  = df_mz_temp.replace({0:np.nan})\n",
    "        df_mz_temp  = pd.DataFrame(df_mz_temp.values*df_mz.values, columns = df_mz_temp.columns, index = df_mz_temp.index)\n",
    "        df_mz_temp  = (df_mz_temp + proton*(charge - 1))/charge\n",
    "        df_mz_temp.rename(columns = lambda x: x + '%s' % (\"+\"*charge ), inplace = True)\n",
    "        df_pep_mz_temp = pd.concat([df_pep_mz_temp, df_mz_temp], axis = 1)\n",
    "\n",
    "        # annotation dataframe\n",
    "        df_bool2 = df_mz_temp.notnull().astype(int)  \n",
    "        df_label_temp = pd.DataFrame(df_bool2.values*df_label.values,\n",
    "                                     columns = df_label.columns, index = df_label.index)\n",
    "        df_label_temp = df_label_temp.replace(r'^\\s*$', np.nan, regex=True)\n",
    "        df_label_temp = df_label_temp.replace({0:np.nan})\n",
    "        df_label_temp = pd.DataFrame(np.where(df_label_temp.notnull(), df_label_temp.astype(str) + '+'*charge, np.nan), columns = df_label_temp.columns)\n",
    "        df_label_temp.columns = df_label_temp.columns + '+'*charge\n",
    "        df_pep_label_temp = pd.concat([df_pep_label_temp, df_label_temp], axis = 1)    \n",
    "\n",
    "    # Copy temporary dataframe back into original dataframe\n",
    "    df_pep_mz    = df_pep_mz_temp.copy()\n",
    "    df_pep_label = df_pep_label_temp.copy()"
   ]
  },
  {
   "cell_type": "markdown",
   "metadata": {},
   "source": [
    "## 2.5 Immonium ion"
   ]
  },
  {
   "cell_type": "code",
   "execution_count": null,
   "metadata": {},
   "outputs": [],
   "source": [
    "# Immonium ions (IM, IM-NH3)\n",
    "if annot_IM == True:\n",
    "    # m/z\n",
    "    df_IM_mz = pd.DataFrame([[aa.get(AA) + proton - CO for AA in seq] for seq in df_pep_mz.seq_Peptide.tolist()])\n",
    "    df_IM_mz[0] = pd.concat([Nterm_mod, df_IM_mz[0]], axis = 1).apply(lambda x: np.nan if len(x['mod_Peptide']) > 0 else x[0], axis = 1)\n",
    "    df_IM_mz.columns = ['mz_IM_%s' % (n+1) for n in range(df_pep_mz['Pep_length'].max())]    \n",
    "    df_IM_NH3_mz = df_IM_mz - NH3\n",
    "    df_IM_NH3_mz.columns = [col.replace('IM', 'IM-NH3') for col in df_IM_mz.columns]\n",
    "\n",
    "    df_pep_mz = df_pep_mz.join([df_IM_mz, df_IM_NH3_mz])\n",
    "\n",
    "    # annotation\n",
    "    df_IM_label = pd.DataFrame([['IM(%s)' % (AA) for AA in seq] for seq in df_pep_label.seq_Peptide.tolist()])\n",
    "    df_IM_label[0] = pd.concat([Nterm_mod, df_IM_label[0]], axis = 1).apply(lambda x: np.nan if len(x['mod_Peptide']) > 0 else x[0], axis = 1)\n",
    "    df_IM_label.columns = ['mz_IM_%s' % (n+1) for n in range( df_pep_label['Pep_length'].max())]   \n",
    "    df_IM_NH3_label = pd.DataFrame(np.where((df_IM_label.notnull()), df_IM_label.astype(str) + '-NH3', np.nan))\n",
    "    df_IM_NH3_label.columns = [col.replace('IM', 'IM-NH3') for col in df_IM_label.columns]\n",
    "\n",
    "    df_pep_label = df_pep_label.join([df_IM_label, df_IM_NH3_label])"
   ]
  },
  {
   "cell_type": "code",
   "execution_count": null,
   "metadata": {},
   "outputs": [],
   "source": [
    "# Drop empty columns\n",
    "df_pep_mz    = df_pep_mz.dropna(how = 'all', axis = 1)\n",
    "df_pep_label = df_pep_label.dropna(how = 'all', axis = 1)"
   ]
  },
  {
   "cell_type": "markdown",
   "metadata": {},
   "source": [
    "# 3. Retain matching experimental peaks"
   ]
  },
  {
   "cell_type": "code",
   "execution_count": null,
   "metadata": {},
   "outputs": [],
   "source": [
    "# Experimental spectrum\n",
    "df_exp_temp  = df_exp.copy()\n",
    "df_exp_temp2 = pd.DataFrame(df_exp_temp['mz_intensity'].values.tolist())\n",
    "df_exp_temp2.fillna(value = np.nan, inplace = True)\n",
    "df_exp_mz = df_exp_temp['m/z array'].copy()\n",
    "\n",
    "# Theoretical spectrum\n",
    "df_theo_mz    = df_pep_mz.filter(like = \"mz\") # Theoretical ion m/z\n",
    "df_theo_label = df_pep_label.filter(like = \"mz\") # Theoretical ion annotation"
   ]
  },
  {
   "cell_type": "code",
   "execution_count": null,
   "metadata": {},
   "outputs": [],
   "source": [
    "%%time\n",
    "# For each PSM, compare experimental vs. theoretical spectrum and retain only matching ions\n",
    "appended_mz    = []\n",
    "appended_label = []\n",
    "appended_order = []\n",
    "\n",
    "for r in range(len(df_exp_mz)):\n",
    "    # Retain only annotated experimental peaks\n",
    "    exp_array = np.array(df_exp_mz[r])\n",
    "    exp_array = exp_array[~np.isnan(exp_array)] # Get non-NaN experimental peaks\n",
    "    theo_array = np.array(df_theo_mz.loc[r])\n",
    "    theo_array = theo_array[~np.isnan(theo_array)] # Get non-NaN theoretical peaks\n",
    "    \n",
    "    exp_array_int  = exp_array.astype(int)  # Get nominal experimental m/z\n",
    "    theo_array_int = theo_array.astype(int) # Get nominal theoretical m/z\n",
    "    exp_array_overlap = np.in1d(exp_array_int, theo_array_int) * exp_array # Check only overlapping nominal m/z\n",
    "    exp_array = exp_array_overlap[exp_array_overlap > 0] # Retain only overlapping experimental m/z\n",
    "    theo_array_overlap = np.in1d(theo_array_int, exp_array_int) * theo_array # Check only overlapping nominal m/z\n",
    "    theo_array = theo_array_overlap[theo_array_overlap > 0] # Retain only overlapping theoretical m/z\n",
    "    exp_order = (exp_array_overlap > 0).astype(int) # Keep original array order\n",
    "    appended_order.append(exp_order)\n",
    "    \n",
    "    array_exp_mz  = np.tile(exp_array, (theo_array.shape[0], 1)) # Experimental peak array\n",
    "    array_theo_mz = np.transpose(np.tile(theo_array, (exp_array.shape[0], 1))) # Theoretical peak array\n",
    "    array_eCheck  = abs(array_theo_mz - array_exp_mz) < (array_theo_mz*ms2_ppm * 1e-6) # Check for m/z match within mass tolerance\n",
    "    array_match   = 1*(array_eCheck.sum(axis = 0) > 0)\n",
    "    appended_mz.append(array_match)\n",
    "    \n",
    "    # Get annotation for the retained experimental peaks\n",
    "    exp_mz     = np.sum((array_exp_mz*array_eCheck), axis = 1)\n",
    "    theo_label = np.array(df_theo_label.loc[r].dropna())\n",
    "    theo_ex_overlap = (theo_label * (theo_array_overlap > 0).astype(bool))\n",
    "    theo_label = np.array([x for x in theo_ex_overlap if x])\n",
    "    \n",
    "    # Merge peak m/z and annotation\n",
    "    mz_label_pair = pd.DataFrame(np.vstack((exp_mz, theo_label))).T\n",
    "    mz_label_pair.columns = [\"exp_mz\", \"label\"]\n",
    "    mz_label_pair['exp_mz'] = mz_label_pair['exp_mz'].astype(float)\n",
    "    mz_label_pair.loc[mz_label_pair['exp_mz'] == 0, 'label'] = np.nan\n",
    "    mz_label_pair_group = mz_label_pair.groupby('exp_mz', as_index = False)['label'].agg({'labels':(lambda x: list(set(x)))})\n",
    "    mz_label_pair_group = mz_label_pair_group[mz_label_pair_group['exp_mz'] != 0]\n",
    "    appended_label.append(np.array(mz_label_pair_group['labels']))\n",
    "    \n",
    "    print(str(r + 1) + str('/%s spectra processed') %(len(df_exp_mz)), end = \"\\r\")"
   ]
  },
  {
   "cell_type": "code",
   "execution_count": null,
   "metadata": {},
   "outputs": [],
   "source": [
    "# Remove non-overlapped experimental peaks\n",
    "all_data_order = (pd.DataFrame(appended_order) > 0).astype(int)\n",
    "df_exp_temp2_order = (df_exp_temp2*all_data_order).applymap(lambda x: np.nan if x == [] else x) \n",
    "df_exp_temp2_order = df_exp_temp2_order.apply(lambda row: pd.Series(row.dropna().values), axis = 1)\n",
    "\n",
    "# Retain only matched experimental peaks\n",
    "all_data_mz = (pd.DataFrame(appended_mz) > 0).astype(int)\n",
    "df_obs = pd.DataFrame(df_exp_temp2_order.values*all_data_mz.values, columns = df_exp_temp2_order.columns, index = df_exp_temp2_order.index)\n",
    "df_obs = df_obs.applymap(lambda x: np.nan if x == [] else x)\n",
    "df_obs = df_obs.apply(lambda row: pd.Series(row.dropna().values), axis = 1)\n",
    "\n",
    "# Merge m/z-intensity-annotation\n",
    "all_data_label = pd.DataFrame([df for df in appended_label])\n",
    "all_data_label = all_data_label.reset_index(drop = True)\n",
    "all_data_label.columns = range(all_data_label.shape[1])\n",
    "df_mz_label = (df_obs + all_data_label).dropna(how = 'all', axis = 1)\n",
    "df_mz_label.columns = ['peak_%s' % (i+1) for i in range(len(df_mz_label.columns))] # Rename columns"
   ]
  },
  {
   "cell_type": "code",
   "execution_count": null,
   "metadata": {},
   "outputs": [],
   "source": [
    "# Append peptide info columns\n",
    "df_mz_label = pd.concat([df_exp_temp['Title'], df_mz_label], axis = 1)\n",
    "df_mz_label = df_pep_mz[['Title', 'Peptide', 'mod_Peptide', 'Pep_length', 'Charge', 'mz_Precursor', 'Cit_Count']].merge(df_mz_label, on = 'Title')"
   ]
  },
  {
   "cell_type": "markdown",
   "metadata": {},
   "source": [
    "# 4. Cit diagnostic ion analysis"
   ]
  },
  {
   "cell_type": "code",
   "execution_count": null,
   "metadata": {},
   "outputs": [],
   "source": [
    "# Make a new dataframe\n",
    "df_mz_label_uniq = df_mz_label.copy()"
   ]
  },
  {
   "cell_type": "code",
   "execution_count": null,
   "metadata": {},
   "outputs": [],
   "source": [
    "# Define a function to filter out secondary ions w/o primary ions (for precursor & sequence ion only)\n",
    "def Secondary_filter(Primary_ion_list, Secondary_ion_list):\n",
    "    # Get secondary ion of precursor & sequence ion\n",
    "    Secondary_ion_pri  = [re.sub(r'[0-9]+', '', i.split('-')[0]) for i in Secondary_ion_list]\n",
    "    Secondary_ion_precur_seq = [a*b for a, b in zip([True if ion in ['Precursor', 'y', 'b', 'a', 'z', 'c'] else False for ion in Secondary_ion_pri], Secondary_ion_list)]\n",
    "    Secondary_ion_precur_seq = [ion for ion in Secondary_ion_precur_seq if len(ion) > 0]\n",
    "    \n",
    "    Secondary_ion_list_filtered = []\n",
    "    for sec in Secondary_ion_list:\n",
    "        if sec in Secondary_ion_precur_seq:\n",
    "            if sec.split('-')[0] in Primary_ion_list:\n",
    "                Secondary_ion_list_filtered.append(sec)\n",
    "        else:\n",
    "            Secondary_ion_list_filtered.append(sec)\n",
    "    \n",
    "    return Secondary_ion_list_filtered"
   ]
  },
  {
   "cell_type": "code",
   "execution_count": null,
   "metadata": {
    "scrolled": true
   },
   "outputs": [],
   "source": [
    "# Filter out secondary ions without primary ions (precursor & sequence ion only)\n",
    "label = df_mz_label_uniq.filter(like = 'peak').applymap(lambda x: x[2:] if isinstance(x, list) else np.nan)\n",
    "appended_list = []\n",
    "\n",
    "for r in range(len(label)):\n",
    "    list_temp = label.loc[r, :].values.tolist()\n",
    "    list_temp = [x for x in list_temp if isinstance(x, list)]\n",
    "    list_temp = [item for sublist in list_temp for item in sublist]\n",
    "    appended_list.append(list_temp)\n",
    "    \n",
    "Primary_ion   = pd.Series(appended_list).apply(lambda x: [ion for ion in x if '-' not in ion])\n",
    "Secondary_ion = pd.Series(appended_list).apply(lambda x: [ion for ion in x if '-' in ion])\n",
    "\n",
    "# Append a total annotation column\n",
    "Total_ion = Primary_ion + pd.DataFrame([Primary_ion, Secondary_ion]).T.apply(lambda x: Secondary_filter(x[0], x[1]), axis = 1)"
   ]
  },
  {
   "cell_type": "code",
   "execution_count": null,
   "metadata": {},
   "outputs": [],
   "source": [
    "# Define a function to remove annotations not in the filtered total annotation list\n",
    "def Annot_filter(peaks, Total_label):\n",
    "    \n",
    "    peaks = [peak if (isinstance(peak, list) and len(set(peak[2:]).intersection(Total_label)) > 0) else np.nan for peak in peaks]\n",
    "    return peaks"
   ]
  },
  {
   "cell_type": "code",
   "execution_count": null,
   "metadata": {
    "scrolled": true
   },
   "outputs": [],
   "source": [
    "# Filtered peak annotation\n",
    "all_peaks = df_mz_label_uniq.filter(like = 'peak').applymap(lambda x: x if isinstance(x, list) else np.nan)\n",
    "appended_list = []\n",
    "\n",
    "for r in range(len(all_peaks)):\n",
    "    list_temp = all_peaks.loc[r, :].values.tolist()\n",
    "    list_temp = [x if isinstance(x, list) else np.nan for x in list_temp]\n",
    "    appended_list.append(list_temp)\n",
    "    \n",
    "# Update original dataframe\n",
    "df_mz_label_uniq = df_mz_label_uniq[[col for col in df_mz_label_uniq.columns if 'peak' not in col]].join(pd.DataFrame(pd.DataFrame([appended_list, Total_ion]).T.apply(lambda x: Annot_filter(x[0], x[1]), axis = 1).tolist(), columns = df_mz_label_uniq.filter(like = 'peak').columns))\n"
   ]
  },
  {
   "cell_type": "code",
   "execution_count": null,
   "metadata": {},
   "outputs": [],
   "source": [
    "# Define a function to retain only unique 43 NL\n",
    "def uniq_43(labels):\n",
    "    # If there is only one 43 NL annotation, retain it\n",
    "    if len(labels) == 1:\n",
    "        if '43' in labels[0]:\n",
    "            return labels\n",
    "        else:\n",
    "            return np.nan\n",
    "    \n",
    "    # In case of multiple annotations\n",
    "    else:\n",
    "        # Check whether there is at least one 43 NL annotation\n",
    "        labels_43 = [('43' in label) for label in labels]\n",
    "        \n",
    "        # If there is no 43 NL annotation, return NaN\n",
    "        if Counter(labels_43)[True] == 0:            \n",
    "            return np.nan\n",
    "        \n",
    "        # If there is at least one 43 NL annotation\n",
    "        else:\n",
    "            # If all labels are 43 NL annotations, retain all\n",
    "            if Counter(labels_43)[True] == len(labels):\n",
    "                Precur_43 = [label for label in labels if 'Precur' in label]\n",
    "                seq_43    = [label for label in labels if any(['y' in label, 'b' in label, 'a' in label, 'z' in label, 'c' in label]) == True and len(re.sub(r'[0-9]+', '', label.split('-')[0])) == 1]\n",
    "                INT_43    = list(set(labels) - set(Precur_43 + seq_43))\n",
    "                if len(Precur_43) > 0: # If there is precur 43 NL, return it\n",
    "                    return Precur_43\n",
    "                elif len(seq_43) > 0: # If there is no precur but sequence 43 NL, return it\n",
    "                    return seq_43\n",
    "                else: # If there is no precur/sequence but INT 43 NL, return it\n",
    "                    return INT_43\n",
    "            # If there is at least one non-43 NL annotation, \n",
    "            else:\n",
    "                labels_43_non = [label for label in labels if labels_43[labels.index(label)] == False]\n",
    "                # If non-43 NL is of precursor or sequence ion type, remove 43 NL\n",
    "                if len([label for label in labels_43_non if any(['Precur' in label, 'y' in label, 'b' in label, 'a' in label, 'z' in label, 'c' in label]) == True and len(re.sub(r'[0-9]+', '', label.split('-')[0])) == 1]) > 0:\n",
    "                    return np.nan\n",
    "                # If non-43 NL is an immonium ion, remove 43 NL\n",
    "                elif len([label for label in labels_43_non if 'IM(' in label]) > 0:\n",
    "                    return np.nan\n",
    "                else: # Otherwise, retain 43 NL\n",
    "                    return list(set(labels) - set(labels_43_non))"
   ]
  },
  {
   "cell_type": "code",
   "execution_count": null,
   "metadata": {},
   "outputs": [],
   "source": [
    "# Define a function to retain only unique INT\n",
    "def uniq_INT(labels):\n",
    "    \n",
    "    INT = [label for label in labels if all(['r' in label, 'IM(' not in label, 'Precur' not in label, len(label.split('-')[0]) in range(2,4)]) == True]\n",
    "    non_INT = list(set(labels) - set(INT))\n",
    "    # If there is no di/tripeptide, return NaN\n",
    "    if len(INT) == 0:\n",
    "        return np.nan\n",
    "    else:    \n",
    "        # If there is no non-INT annotation, retain INT annotation\n",
    "        if len(non_INT) == 0:\n",
    "            return INT\n",
    "        else: # If there is at least one non-INT annotation, return NaN\n",
    "            return np.nan"
   ]
  },
  {
   "cell_type": "code",
   "execution_count": null,
   "metadata": {
    "scrolled": false
   },
   "outputs": [],
   "source": [
    "# Retain unique 43 NL and INT\n",
    "unique_NL  = pd.Series(df_mz_label_uniq.filter(like = 'peak').applymap(lambda x: uniq_43(x[2:])  if isinstance(x, list) else np.nan).values.tolist()).apply(lambda x: [label for label in x if isinstance(label, list)])\n",
    "unique_INT = pd.Series(df_mz_label_uniq.filter(like = 'peak').applymap(lambda x: uniq_INT(x[2:]) if isinstance(x, list) else np.nan).values.tolist()).apply(lambda x: [label for label in x if isinstance(label, list)])\n"
   ]
  },
  {
   "cell_type": "code",
   "execution_count": null,
   "metadata": {},
   "outputs": [],
   "source": [
    "## Unique Cit DI annotations\n",
    "# Get unique NL annotations\n",
    "Total_NL_label = unique_NL.apply(lambda x: [label for sublist in x for label in sublist])\n",
    "df_mz_label_uniq['Total_NL_label'] = Total_NL_label.apply(lambda x: ','.join(x))\n",
    "df_mz_label_uniq['precNL_label']   = Total_NL_label.apply(lambda x: ','.join([label for label in x if 'Precur' in label]))\n",
    "df_mz_label_uniq['seqNL_label']    = Total_NL_label.apply(lambda x: ','.join([label for label in x if any(['y' in label, 'b' in label, 'a' in label, 'z' in label, 'c' in label]) == True and len(re.sub(r'[0-9]+', '', label.split('-')[0])) == 1]))\n",
    "df_mz_label_uniq['intNL_label']    = Total_NL_label.apply(lambda x: ','.join([label for label in x if all(['r' in label, 'Precur' not in label]) == True]))\n",
    "\n",
    "# Get unique INT annotations\n",
    "Total_INT_label = unique_INT.apply(lambda x: [label for sublist in x for label in sublist])\n",
    "df_mz_label_uniq['Total_INT_label']  = Total_INT_label.apply(lambda x: ','.join(x))\n",
    "df_mz_label_uniq['Dipeptide_label']  = Total_INT_label.apply(lambda x: ','.join([label for label in x if len(label.split('-')[0]) == 2]))\n",
    "df_mz_label_uniq['Tripeptide_label'] = Total_INT_label.apply(lambda x: ','.join([label for label in x if len(label.split('-')[0]) == 3]))"
   ]
  },
  {
   "cell_type": "code",
   "execution_count": null,
   "metadata": {},
   "outputs": [],
   "source": [
    "## IM(Cit)-NH3 filtering using intensity ratio with IM(R)-NH3\n",
    "# Get IM(Cit)-NH3 intensity\n",
    "IMCit_NH3 = pd.Series(df_mz_label_uniq.filter(like = 'peak').applymap(lambda x: x[1] if isinstance(x, list) and 'IM(r)-NH3' in x[2:] else np.nan).values.tolist())\n",
    "IMCit_NH3 = IMCit_NH3.apply(lambda x: [intensity for intensity in x if pd.notnull(intensity)]).apply(lambda x: x[0] if len(x) > 0 else np.nan)\n",
    "IMCit_NH3_presence = (IMCit_NH3 > 0).astype(int)\n",
    "\n",
    "# Get IM(R)-NH3 intensity\n",
    "IMR_NH3 = pd.Series(df_mz_label_uniq.filter(like = 'peak').applymap(lambda x: x[1] if isinstance(x, list) and 'IM(R)-NH3' in x[2:] else np.nan).values.tolist())\n",
    "IMR_NH3 = IMR_NH3.apply(lambda x: [intensity for intensity in x if pd.notnull(intensity)]).apply(lambda x: x[0] if len(x) > 0 else np.nan)\n",
    "\n",
    "# Retain only IM(Cit)-NH3 with intensity greater than that of IM(R)-NH3\n",
    "IM_filter = ((IMR_NH3/IMCit_NH3) > 1).astype(int)\n",
    "IMCit_NH3_presence_filtered = IMCit_NH3_presence - (IMCit_NH3_presence*IM_filter)\n",
    "\n",
    "# Get IM(Cit)-NH3 annotation\n",
    "df_mz_label_uniq['IM_NH3_label'] = Total_ion.apply(lambda x: ','.join([label for label in x if label == 'IM(r)-NH3']))*IMCit_NH3_presence_filtered"
   ]
  },
  {
   "cell_type": "code",
   "execution_count": null,
   "metadata": {},
   "outputs": [],
   "source": [
    "## Unique Cit DI counts\n",
    "# Get unique NL counts\n",
    "df_mz_label_uniq['Total_NL_count'] = df_mz_label_uniq['Total_NL_label'].apply(lambda x: len(x.split(',')) if len(x) > 0 else 0)\n",
    "df_mz_label_uniq['precNL_count']   = df_mz_label_uniq['precNL_label'].apply(lambda x: len(x.split(',')) if len(x) > 0 else 0)\n",
    "df_mz_label_uniq['seqNL_count']    = df_mz_label_uniq['seqNL_label'].apply(lambda x: len(x.split(',')) if len(x) > 0 else 0)\n",
    "df_mz_label_uniq['intNL_count']    = df_mz_label_uniq['intNL_label'].apply(lambda x: len(x.split(',')) if len(x) > 0 else 0)\n",
    "\n",
    "# Get unique INT counts\n",
    "df_mz_label_uniq['Total_INT_count']  = unique_INT.str.len()\n",
    "df_mz_label_uniq['Dipeptide_count']  = unique_INT.apply(lambda x: [label for label in x if len(label[0].split('-')[0]) == 2]).str.len()\n",
    "df_mz_label_uniq['Tripeptide_count'] = unique_INT.apply(lambda x: [label for label in x if len(label[0].split('-')[0]) == 3]).str.len()\n",
    "\n",
    "# Get IM(Cit)-NH3 counts\n",
    "df_mz_label_uniq['IM_NH3_count'] = df_mz_label_uniq['IM_NH3_label'].apply(lambda x: 1 if len(x) > 0 else 0)"
   ]
  },
  {
   "cell_type": "code",
   "execution_count": null,
   "metadata": {},
   "outputs": [],
   "source": [
    "# Final output\n",
    "Final_result = df_mz_label_uniq[[col for col in df_mz_label_uniq.columns if 'peak' not in col]]"
   ]
  },
  {
   "cell_type": "markdown",
   "metadata": {},
   "source": [
    "# 5. Assessment of Cit status using logistic regression model"
   ]
  },
  {
   "cell_type": "code",
   "execution_count": null,
   "metadata": {},
   "outputs": [],
   "source": [
    "# Define a function to calculate Cit probability using EN model developed in the paper\n",
    "def EN_model(NL_count, INT_count, IM_NH3_count):\n",
    "    # Regression coefficients\n",
    "    Intercept = -1.9270\n",
    "    NL_coeff  = 0.9759\n",
    "    INT_coeff = 0.6519\n",
    "    IM_coeff  = 2.7804\n",
    "    \n",
    "    # Logit function\n",
    "    logit = Intercept + NL_coeff*NL_count + INT_coeff*INT_count + IM_coeff*IM_NH3_count\n",
    "    prob  = np.exp(logit)/(np.exp(logit) + 1)\n",
    "    \n",
    "    return prob"
   ]
  },
  {
   "cell_type": "code",
   "execution_count": null,
   "metadata": {},
   "outputs": [],
   "source": [
    "if Frag_method == 'HCD': # Apply model for HCD data only\n",
    "    Cit_prob = Final_result[['Total_NL_count', 'Total_INT_count', 'IM_NH3_count']].apply(lambda x: EN_model(x['Total_NL_count'], x['Total_INT_count'], x['IM_NH3_count']), axis = 1)\n",
    "    Final_result = Final_result.assign(Cit_probability = Cit_prob) # Citrullination status probability\n",
    "    Final_result = Final_result.assign(Cit_prediction = np.where(Cit_prob >= 0.5, 1, 0)) # Citrullination status prediction"
   ]
  },
  {
   "cell_type": "code",
   "execution_count": null,
   "metadata": {},
   "outputs": [],
   "source": [
    "Final_result['Total_ion'] = Total_ion\n",
    "Final_result['Primary_ion'] = Primary_ion"
   ]
  },
  {
   "cell_type": "code",
   "execution_count": null,
   "metadata": {},
   "outputs": [],
   "source": [
    "# Save result\n",
    "Final_result.to_csv(\"Cit_DI_analysis_result.csv\") # As csv file"
   ]
  },
  {
   "cell_type": "code",
   "execution_count": null,
   "metadata": {},
   "outputs": [],
   "source": []
  },
  {
   "cell_type": "code",
   "execution_count": null,
   "metadata": {},
   "outputs": [],
   "source": []
  },
  {
   "cell_type": "code",
   "execution_count": null,
   "metadata": {},
   "outputs": [],
   "source": []
  },
  {
   "cell_type": "code",
   "execution_count": null,
   "metadata": {},
   "outputs": [],
   "source": []
  },
  {
   "cell_type": "code",
   "execution_count": null,
   "metadata": {},
   "outputs": [],
   "source": []
  }
 ],
 "metadata": {
  "kernelspec": {
   "display_name": "Python 3",
   "language": "python",
   "name": "python3"
  },
  "language_info": {
   "codemirror_mode": {
    "name": "ipython",
    "version": 3
   },
   "file_extension": ".py",
   "mimetype": "text/x-python",
   "name": "python",
   "nbconvert_exporter": "python",
   "pygments_lexer": "ipython3",
   "version": "3.7.6"
  }
 },
 "nbformat": 4,
 "nbformat_minor": 2
}
